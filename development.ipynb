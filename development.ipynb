{
 "cells": [
  {
   "cell_type": "markdown",
   "metadata": {},
   "source": [
    "### This notebook will be used to log the development process and also"
   ]
  },
  {
   "cell_type": "code",
   "execution_count": 1,
   "metadata": {},
   "outputs": [],
   "source": [
    "import pandas as pd\n",
    "from EDA_Intial_Preprocessing import preprocessing\n",
    "from algorithms import logistic_regression\n",
    "\n",
    "df = pd.read_csv('data.csv')\n",
    "\n",
    "# Returns lists of datasets that have been processed\n",
    "# For each list, 0: x training data, 1: x testing data, 2: y training data and 3: y testing data\n",
    "data_preprocess = preprocessing.Preprocessing(df)\n",
    "standardised_data, normalized_data, unit_normalized_data = data_preprocess.preprocess()"
   ]
  },
  {
   "cell_type": "code",
   "execution_count": 2,
   "metadata": {
    "pycharm": {
     "name": "#%%\n"
    }
   },
   "outputs": [],
   "source": [
    "logistic_regression_scores = logistic_regression.implement_logistic_regression(standardised_data, normalized_data, unit_normalized_data)\n",
    "# Returns a list of the scores, 0: standardised, 1: normalized, 2: unit_normalized"
   ]
  },
  {
   "cell_type": "code",
   "execution_count": 3,
   "metadata": {
    "pycharm": {
     "name": "#%%\n"
    }
   },
   "outputs": [
    {
     "name": "stdout",
     "output_type": "stream",
     "text": [
      "[0.9649122807017544, 0.9707602339181286, 0.8596491228070176]\n"
     ]
    }
   ],
   "source": [
    "print(logistic_regression_scores)\n"
   ]
  }
 ],
 "metadata": {
  "kernelspec": {
   "display_name": "Python 3",
   "language": "python",
   "name": "python3"
  },
  "language_info": {
   "codemirror_mode": {
    "name": "ipython",
    "version": 3
   },
   "file_extension": ".py",
   "mimetype": "text/x-python",
   "name": "python",
   "nbconvert_exporter": "python",
   "pygments_lexer": "ipython3",
   "version": "3.8.5"
  }
 },
 "nbformat": 4,
 "nbformat_minor": 1
}